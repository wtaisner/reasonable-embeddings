{
 "cells": [
  {
   "cell_type": "code",
   "execution_count": 1,
   "metadata": {
    "ExecuteTime": {
     "end_time": "2024-03-31T10:37:49.260837Z",
     "start_time": "2024-03-31T10:37:49.254169Z"
    },
    "collapsed": false
   },
   "outputs": [
    {
     "name": "stdout",
     "output_type": "stream",
     "text": [
      "/home/wtaisner/PycharmProjects/reasonable-embeddings\n"
     ]
    }
   ],
   "source": [
    "cd ../.."
   ]
  },
  {
   "cell_type": "code",
   "execution_count": 2,
   "metadata": {
    "ExecuteTime": {
     "end_time": "2024-03-31T10:37:54.186874Z",
     "start_time": "2024-03-31T10:37:54.182478Z"
    },
    "collapsed": false
   },
   "outputs": [
    {
     "data": {
      "text/plain": [
       "PosixPath('local/out/elpp/exp1')"
      ]
     },
     "execution_count": 2,
     "metadata": {},
     "output_type": "execute_result"
    }
   ],
   "source": [
    "from pathlib import Path\n",
    "base_dir = Path('local/out/elpp/exp1')\n",
    "\n",
    "base_dir.mkdir(parents=True, exist_ok=True)\n",
    "base_dir"
   ]
  },
  {
   "cell_type": "code",
   "execution_count": 4,
   "metadata": {
    "ExecuteTime": {
     "end_time": "2024-03-31T10:37:56.548440Z",
     "start_time": "2024-03-31T10:37:56.353989Z"
    },
    "collapsed": false
   },
   "outputs": [],
   "source": [
    "import lzma\n",
    "import dill\n",
    "\n",
    "with lzma.open(base_dir / 'reasoners_400_concepts_4_roles_1_proofs.dill.xz', 'rb') as f:\n",
    "    reasoners = dill.load(f)"
   ]
  },
  {
   "cell_type": "code",
   "execution_count": 5,
   "metadata": {
    "collapsed": false
   },
   "outputs": [
    {
     "name": "stderr",
     "output_type": "stream",
     "text": [
      "/home/wtaisner/mambaforge/envs/reasonable-embeddings/lib/python3.11/site-packages/numpy/core/getlimits.py:549: UserWarning: The value of the smallest subnormal for <class 'numpy.float64'> type is zero.\n",
      "  setattr(self, word, getattr(machar, word).flat[0])\n",
      "/home/wtaisner/mambaforge/envs/reasonable-embeddings/lib/python3.11/site-packages/numpy/core/getlimits.py:89: UserWarning: The value of the smallest subnormal for <class 'numpy.float64'> type is zero.\n",
      "  return self._float_to_str(self.smallest_subnormal)\n",
      "/home/wtaisner/mambaforge/envs/reasonable-embeddings/lib/python3.11/site-packages/numpy/core/getlimits.py:549: UserWarning: The value of the smallest subnormal for <class 'numpy.float32'> type is zero.\n",
      "  setattr(self, word, getattr(machar, word).flat[0])\n",
      "/home/wtaisner/mambaforge/envs/reasonable-embeddings/lib/python3.11/site-packages/numpy/core/getlimits.py:89: UserWarning: The value of the smallest subnormal for <class 'numpy.float32'> type is zero.\n",
      "  return self._float_to_str(self.smallest_subnormal)\n"
     ]
    },
    {
     "name": "stdout",
     "output_type": "stream",
     "text": [
      "Complexity threshold 2\n",
      "Training 56596 #pos 28298\n",
      "Validation 14108 #pos 7054\n",
      "Test 203 #pos 203\n",
      "created reasoner with 53409 parameters\n",
      "created 40 encoders with 17024 parameters each\n",
      "train epoch 00/15 | batch 1770/1769 | loss 0.6961 | val loss 0.6960 | acc 0.5000 | f1 0.6667 | prec 0.5000 | recall 1.0000 | roc auc 0.6820 | pr auc 0.7176 | elapsed 9.17s\n",
      "train epoch 01/15 | batch 1770/1769 | loss 0.5658 | val loss 0.4943 | acc 0.7353 | f1 0.6415 | prec 0.9935 | recall 0.4736 | roc auc 0.7847 | pr auc 0.8354 | elapsed 25.39s\n",
      "train epoch 02/15 | batch 1308/1769 | loss 0.4694 | elapsed 19.14s"
     ]
    },
    {
     "ename": "KeyboardInterrupt",
     "evalue": "",
     "output_type": "error",
     "traceback": [
      "\u001b[0;31m---------------------------------------------------------------------------\u001b[0m",
      "\u001b[0;31mKeyboardInterrupt\u001b[0m                         Traceback (most recent call last)",
      "Cell \u001b[0;32mIn[5], line 32\u001b[0m\n\u001b[1;32m     29\u001b[0m \u001b[38;5;28mprint\u001b[39m(\u001b[38;5;124mf\u001b[39m\u001b[38;5;124m'\u001b[39m\u001b[38;5;124mcreated reasoner with \u001b[39m\u001b[38;5;132;01m{\u001b[39;00mparamcount(trained_reasoner)\u001b[38;5;132;01m}\u001b[39;00m\u001b[38;5;124m parameters\u001b[39m\u001b[38;5;124m'\u001b[39m)\n\u001b[1;32m     30\u001b[0m \u001b[38;5;28mprint\u001b[39m(\u001b[38;5;124mf\u001b[39m\u001b[38;5;124m'\u001b[39m\u001b[38;5;124mcreated \u001b[39m\u001b[38;5;132;01m{\u001b[39;00m\u001b[38;5;28mlen\u001b[39m(encoders)\u001b[38;5;132;01m}\u001b[39;00m\u001b[38;5;124m encoders with \u001b[39m\u001b[38;5;132;01m{\u001b[39;00mparamcount(encoders[\u001b[38;5;241m0\u001b[39m])\u001b[38;5;132;01m}\u001b[39;00m\u001b[38;5;124m parameters each\u001b[39m\u001b[38;5;124m'\u001b[39m)\n\u001b[0;32m---> 32\u001b[0m train_logger \u001b[38;5;241m=\u001b[39m \u001b[43mtrain\u001b[49m\u001b[43m(\u001b[49m\u001b[43mtraining\u001b[49m\u001b[43m,\u001b[49m\u001b[43m \u001b[49m\u001b[43mvalidation\u001b[49m\u001b[43m,\u001b[49m\u001b[43m \u001b[49m\u001b[43mtrained_reasoner\u001b[49m\u001b[43m,\u001b[49m\u001b[43m \u001b[49m\u001b[43mencoders\u001b[49m\u001b[43m,\u001b[49m\u001b[43m \u001b[49m\u001b[43mepoch_count\u001b[49m\u001b[38;5;241;43m=\u001b[39;49m\u001b[43mepoch_count\u001b[49m\u001b[43m,\u001b[49m\u001b[43m \u001b[49m\u001b[43mbatch_size\u001b[49m\u001b[38;5;241;43m=\u001b[39;49m\u001b[43mbatch_size\u001b[49m\u001b[43m)\u001b[49m\n\u001b[1;32m     34\u001b[0m artifacts[complexity_threshold] \u001b[38;5;241m=\u001b[39m {\n\u001b[1;32m     35\u001b[0m     \u001b[38;5;124m'\u001b[39m\u001b[38;5;124mreasoner\u001b[39m\u001b[38;5;124m'\u001b[39m: trained_reasoner,\n\u001b[1;32m     36\u001b[0m     \u001b[38;5;124m'\u001b[39m\u001b[38;5;124mencoders\u001b[39m\u001b[38;5;124m'\u001b[39m: encoders,\n\u001b[0;32m   (...)\u001b[0m\n\u001b[1;32m     39\u001b[0m     \u001b[38;5;124m'\u001b[39m\u001b[38;5;124mtest\u001b[39m\u001b[38;5;124m'\u001b[39m: test\n\u001b[1;32m     40\u001b[0m }\n",
      "File \u001b[0;32m~/PycharmProjects/reasonable-embeddings/src/reasoner.py:262\u001b[0m, in \u001b[0;36mtrain\u001b[0;34m(data_tr, data_vl, reasoner, encoders, epoch_count, batch_size, logger, validate, optimizer, lr_reasoner, lr_encoder, freeze_reasoner, run_name)\u001b[0m\n\u001b[1;32m    260\u001b[0m \u001b[38;5;28;01mfor\u001b[39;00m optim \u001b[38;5;129;01min\u001b[39;00m optimizers:\n\u001b[1;32m    261\u001b[0m     optim\u001b[38;5;241m.\u001b[39mzero_grad()\n\u001b[0;32m--> 262\u001b[0m loss, yb, Yb \u001b[38;5;241m=\u001b[39m \u001b[43meval_batch\u001b[49m\u001b[43m(\u001b[49m\n\u001b[1;32m    263\u001b[0m \u001b[43m    \u001b[49m\u001b[43mreasoner\u001b[49m\u001b[43m,\u001b[49m\u001b[43m \u001b[49m\u001b[43mencoders\u001b[49m\u001b[43m,\u001b[49m\u001b[43m \u001b[49m\u001b[43mX_tr\u001b[49m\u001b[43m,\u001b[49m\u001b[43m \u001b[49m\u001b[43my_tr\u001b[49m\u001b[43m,\u001b[49m\u001b[43m \u001b[49m\u001b[43midx_tr\u001b[49m\u001b[43m,\u001b[49m\u001b[43m \u001b[49m\u001b[43midxs\u001b[49m\u001b[43m,\u001b[49m\u001b[43m \u001b[49m\u001b[43mbackward\u001b[49m\u001b[38;5;241;43m=\u001b[39;49m\u001b[43mepoch_idx\u001b[49m\u001b[43m \u001b[49m\u001b[38;5;241;43m>\u001b[39;49m\u001b[43m \u001b[49m\u001b[38;5;241;43m0\u001b[39;49m\n\u001b[1;32m    264\u001b[0m \u001b[43m\u001b[49m\u001b[43m)\u001b[49m\n\u001b[1;32m    265\u001b[0m \u001b[38;5;28;01mfor\u001b[39;00m optim \u001b[38;5;129;01min\u001b[39;00m optimizers:\n\u001b[1;32m    266\u001b[0m     optim\u001b[38;5;241m.\u001b[39mstep()\n",
      "File \u001b[0;32m~/PycharmProjects/reasonable-embeddings/src/reasoner.py:215\u001b[0m, in \u001b[0;36meval_batch\u001b[0;34m(reasoner, encoders, X, y, onto_idx, indices, backward, detach)\u001b[0m\n\u001b[1;32m    213\u001b[0m loss \u001b[38;5;241m=\u001b[39m F\u001b[38;5;241m.\u001b[39mbinary_cross_entropy_with_logits(Y_, y_, reduction\u001b[38;5;241m=\u001b[39m\u001b[38;5;124m\"\u001b[39m\u001b[38;5;124mmean\u001b[39m\u001b[38;5;124m\"\u001b[39m)\n\u001b[1;32m    214\u001b[0m \u001b[38;5;28;01mif\u001b[39;00m backward:\n\u001b[0;32m--> 215\u001b[0m     \u001b[43mloss\u001b[49m\u001b[38;5;241;43m.\u001b[39;49m\u001b[43mbackward\u001b[49m\u001b[43m(\u001b[49m\u001b[43m)\u001b[49m\n\u001b[1;32m    216\u001b[0m Y_ \u001b[38;5;241m=\u001b[39m T\u001b[38;5;241m.\u001b[39msigmoid(Y_)\n\u001b[1;32m    217\u001b[0m \u001b[38;5;28;01mif\u001b[39;00m detach:\n",
      "File \u001b[0;32m~/mambaforge/envs/reasonable-embeddings/lib/python3.11/site-packages/torch/_tensor.py:522\u001b[0m, in \u001b[0;36mTensor.backward\u001b[0;34m(self, gradient, retain_graph, create_graph, inputs)\u001b[0m\n\u001b[1;32m    512\u001b[0m \u001b[38;5;28;01mif\u001b[39;00m has_torch_function_unary(\u001b[38;5;28mself\u001b[39m):\n\u001b[1;32m    513\u001b[0m     \u001b[38;5;28;01mreturn\u001b[39;00m handle_torch_function(\n\u001b[1;32m    514\u001b[0m         Tensor\u001b[38;5;241m.\u001b[39mbackward,\n\u001b[1;32m    515\u001b[0m         (\u001b[38;5;28mself\u001b[39m,),\n\u001b[0;32m   (...)\u001b[0m\n\u001b[1;32m    520\u001b[0m         inputs\u001b[38;5;241m=\u001b[39minputs,\n\u001b[1;32m    521\u001b[0m     )\n\u001b[0;32m--> 522\u001b[0m \u001b[43mtorch\u001b[49m\u001b[38;5;241;43m.\u001b[39;49m\u001b[43mautograd\u001b[49m\u001b[38;5;241;43m.\u001b[39;49m\u001b[43mbackward\u001b[49m\u001b[43m(\u001b[49m\n\u001b[1;32m    523\u001b[0m \u001b[43m    \u001b[49m\u001b[38;5;28;43mself\u001b[39;49m\u001b[43m,\u001b[49m\u001b[43m \u001b[49m\u001b[43mgradient\u001b[49m\u001b[43m,\u001b[49m\u001b[43m \u001b[49m\u001b[43mretain_graph\u001b[49m\u001b[43m,\u001b[49m\u001b[43m \u001b[49m\u001b[43mcreate_graph\u001b[49m\u001b[43m,\u001b[49m\u001b[43m \u001b[49m\u001b[43minputs\u001b[49m\u001b[38;5;241;43m=\u001b[39;49m\u001b[43minputs\u001b[49m\n\u001b[1;32m    524\u001b[0m \u001b[43m\u001b[49m\u001b[43m)\u001b[49m\n",
      "File \u001b[0;32m~/mambaforge/envs/reasonable-embeddings/lib/python3.11/site-packages/torch/autograd/__init__.py:266\u001b[0m, in \u001b[0;36mbackward\u001b[0;34m(tensors, grad_tensors, retain_graph, create_graph, grad_variables, inputs)\u001b[0m\n\u001b[1;32m    261\u001b[0m     retain_graph \u001b[38;5;241m=\u001b[39m create_graph\n\u001b[1;32m    263\u001b[0m \u001b[38;5;66;03m# The reason we repeat the same comment below is that\u001b[39;00m\n\u001b[1;32m    264\u001b[0m \u001b[38;5;66;03m# some Python versions print out the first line of a multi-line function\u001b[39;00m\n\u001b[1;32m    265\u001b[0m \u001b[38;5;66;03m# calls in the traceback and some print out the last line\u001b[39;00m\n\u001b[0;32m--> 266\u001b[0m \u001b[43mVariable\u001b[49m\u001b[38;5;241;43m.\u001b[39;49m\u001b[43m_execution_engine\u001b[49m\u001b[38;5;241;43m.\u001b[39;49m\u001b[43mrun_backward\u001b[49m\u001b[43m(\u001b[49m\u001b[43m  \u001b[49m\u001b[38;5;66;43;03m# Calls into the C++ engine to run the backward pass\u001b[39;49;00m\n\u001b[1;32m    267\u001b[0m \u001b[43m    \u001b[49m\u001b[43mtensors\u001b[49m\u001b[43m,\u001b[49m\n\u001b[1;32m    268\u001b[0m \u001b[43m    \u001b[49m\u001b[43mgrad_tensors_\u001b[49m\u001b[43m,\u001b[49m\n\u001b[1;32m    269\u001b[0m \u001b[43m    \u001b[49m\u001b[43mretain_graph\u001b[49m\u001b[43m,\u001b[49m\n\u001b[1;32m    270\u001b[0m \u001b[43m    \u001b[49m\u001b[43mcreate_graph\u001b[49m\u001b[43m,\u001b[49m\n\u001b[1;32m    271\u001b[0m \u001b[43m    \u001b[49m\u001b[43minputs\u001b[49m\u001b[43m,\u001b[49m\n\u001b[1;32m    272\u001b[0m \u001b[43m    \u001b[49m\u001b[43mallow_unreachable\u001b[49m\u001b[38;5;241;43m=\u001b[39;49m\u001b[38;5;28;43;01mTrue\u001b[39;49;00m\u001b[43m,\u001b[49m\n\u001b[1;32m    273\u001b[0m \u001b[43m    \u001b[49m\u001b[43maccumulate_grad\u001b[49m\u001b[38;5;241;43m=\u001b[39;49m\u001b[38;5;28;43;01mTrue\u001b[39;49;00m\u001b[43m,\u001b[49m\n\u001b[1;32m    274\u001b[0m \u001b[43m\u001b[49m\u001b[43m)\u001b[49m\n",
      "\u001b[0;31mKeyboardInterrupt\u001b[0m: "
     ]
    }
   ],
   "source": [
    "import numpy as np\n",
    "from src.reasoner import ReasonerHead, EmbeddingLayer, train\n",
    "from src.utils import timestr, paramcount\n",
    "import torch as T\n",
    "from src.elpp.gen import split_dataset\n",
    "\n",
    "seed = 2022\n",
    "ts = timestr()\n",
    "\n",
    "emb_size = 32\n",
    "hidden_size = 16\n",
    "epoch_count = 15\n",
    "test_epoch_count = 10\n",
    "batch_size = 32\n",
    "\n",
    "artifacts = {}\n",
    "\n",
    "for complexity_threshold in range(2, 21):\n",
    "\n",
    "    print(\"Complexity threshold\", complexity_threshold)\n",
    "\n",
    "    training, validation, test = split_dataset(reasoners, np.random.default_rng(seed=0xbeef), complexity_threshold=complexity_threshold)\n",
    "\n",
    "    T.manual_seed(seed)\n",
    "    trained_reasoner = ReasonerHead(emb_size=emb_size, hidden_size=hidden_size)\n",
    "    encoders = [EmbeddingLayer(emb_size=emb_size, n_concepts=reasoner.n_concepts, n_roles=reasoner.n_roles) for reasoner in\n",
    "                reasoners]\n",
    "\n",
    "    print(f'created reasoner with {paramcount(trained_reasoner)} parameters')\n",
    "    print(f'created {len(encoders)} encoders with {paramcount(encoders[0])} parameters each')\n",
    "\n",
    "    train_logger = train(training, validation, trained_reasoner, encoders, epoch_count=epoch_count, batch_size=batch_size)\n",
    "\n",
    "    artifacts[complexity_threshold] = {\n",
    "        'reasoner': trained_reasoner,\n",
    "        'encoders': encoders,\n",
    "        'training': training,\n",
    "        'validation': validation,\n",
    "        'test': test\n",
    "    }"
   ]
  },
  {
   "cell_type": "code",
   "execution_count": null,
   "metadata": {
    "collapsed": false
   },
   "outputs": [],
   "source": [
    "tmp = {key: {'reasoner': value['reasoner'].state_dict(), 'encoders': [e.state_dict() for e in value['encoders']], 'training': value['training'], 'validation': value['validation'], 'test': value['test']} for key, value in artifacts.items()}\n",
    "\n",
    "with lzma.open(base_dir / 'exp1.dill.xz', 'wb') as f:\n",
    "    dill.dump(tmp, f)"
   ]
  },
  {
   "cell_type": "code",
   "execution_count": null,
   "metadata": {
    "collapsed": false
   },
   "outputs": [
    {
     "name": "stderr",
     "output_type": "stream",
     "text": [
      "100%|██████████| 19/19 [00:23<00:00,  1.26s/it]\n"
     ]
    }
   ],
   "source": [
    "from tqdm import tqdm\n",
    "from src.reasoner import eval_batch\n",
    "\n",
    "import pandas as pd\n",
    "\n",
    "rows = []\n",
    "\n",
    "for complexity_threshold, components in tqdm(artifacts.items()):\n",
    "    with T.no_grad():\n",
    "        idx_te, X_te, y_te = components['test']\n",
    "        _, _, Y_te_good = eval_batch(components['reasoner'], components['encoders'], X_te, y_te, idx_te)\n",
    "    for i in range(len(idx_te)):\n",
    "        idx = idx_te[i]\n",
    "        axiom = X_te[i]\n",
    "        expected = y_te[i]\n",
    "        predicted = Y_te_good[i]\n",
    "        complexity = len(reasoners[idx].decode_shortest_proof(axiom[1], axiom[2]))\n",
    "        rows.append([complexity_threshold, idx, complexity, axiom, expected, int(predicted >= .5), predicted])"
   ]
  },
  {
   "cell_type": "code",
   "execution_count": null,
   "metadata": {
    "collapsed": false
   },
   "outputs": [
    {
     "data": {
      "text/html": [
       "<div>\n",
       "<style scoped>\n",
       "    .dataframe tbody tr th:only-of-type {\n",
       "        vertical-align: middle;\n",
       "    }\n",
       "\n",
       "    .dataframe tbody tr th {\n",
       "        vertical-align: top;\n",
       "    }\n",
       "\n",
       "    .dataframe thead th {\n",
       "        text-align: right;\n",
       "    }\n",
       "</style>\n",
       "<table border=\"1\" class=\"dataframe\">\n",
       "  <thead>\n",
       "    <tr style=\"text-align: right;\">\n",
       "      <th></th>\n",
       "      <th>Complexity threshold</th>\n",
       "      <th>KB</th>\n",
       "      <th>Complexity</th>\n",
       "      <th>Axiom</th>\n",
       "      <th>Expected</th>\n",
       "      <th>Predicted</th>\n",
       "      <th>Raw predicted</th>\n",
       "    </tr>\n",
       "  </thead>\n",
       "  <tbody>\n",
       "    <tr>\n",
       "      <th>0</th>\n",
       "      <td>2</td>\n",
       "      <td>0</td>\n",
       "      <td>4</td>\n",
       "      <td>(0, 1, 9)</td>\n",
       "      <td>1</td>\n",
       "      <td>0</td>\n",
       "      <td>0.306261</td>\n",
       "    </tr>\n",
       "    <tr>\n",
       "      <th>1</th>\n",
       "      <td>2</td>\n",
       "      <td>0</td>\n",
       "      <td>6</td>\n",
       "      <td>(0, 1, 50)</td>\n",
       "      <td>1</td>\n",
       "      <td>1</td>\n",
       "      <td>0.924735</td>\n",
       "    </tr>\n",
       "    <tr>\n",
       "      <th>2</th>\n",
       "      <td>2</td>\n",
       "      <td>0</td>\n",
       "      <td>5</td>\n",
       "      <td>(0, 1, 55)</td>\n",
       "      <td>1</td>\n",
       "      <td>0</td>\n",
       "      <td>0.333867</td>\n",
       "    </tr>\n",
       "    <tr>\n",
       "      <th>3</th>\n",
       "      <td>2</td>\n",
       "      <td>0</td>\n",
       "      <td>7</td>\n",
       "      <td>(0, 1, 63)</td>\n",
       "      <td>1</td>\n",
       "      <td>1</td>\n",
       "      <td>0.729814</td>\n",
       "    </tr>\n",
       "    <tr>\n",
       "      <th>4</th>\n",
       "      <td>2</td>\n",
       "      <td>0</td>\n",
       "      <td>5</td>\n",
       "      <td>(0, 1, 65)</td>\n",
       "      <td>1</td>\n",
       "      <td>0</td>\n",
       "      <td>0.283852</td>\n",
       "    </tr>\n",
       "    <tr>\n",
       "      <th>...</th>\n",
       "      <td>...</td>\n",
       "      <td>...</td>\n",
       "      <td>...</td>\n",
       "      <td>...</td>\n",
       "      <td>...</td>\n",
       "      <td>...</td>\n",
       "      <td>...</td>\n",
       "    </tr>\n",
       "    <tr>\n",
       "      <th>445205</th>\n",
       "      <td>20</td>\n",
       "      <td>39</td>\n",
       "      <td>24</td>\n",
       "      <td>(0, 89, 44)</td>\n",
       "      <td>1</td>\n",
       "      <td>0</td>\n",
       "      <td>0.003385</td>\n",
       "    </tr>\n",
       "    <tr>\n",
       "      <th>445206</th>\n",
       "      <td>20</td>\n",
       "      <td>39</td>\n",
       "      <td>22</td>\n",
       "      <td>(0, -2, 49)</td>\n",
       "      <td>1</td>\n",
       "      <td>0</td>\n",
       "      <td>0.003953</td>\n",
       "    </tr>\n",
       "    <tr>\n",
       "      <th>445207</th>\n",
       "      <td>20</td>\n",
       "      <td>39</td>\n",
       "      <td>24</td>\n",
       "      <td>(0, -2, 56)</td>\n",
       "      <td>1</td>\n",
       "      <td>0</td>\n",
       "      <td>0.055731</td>\n",
       "    </tr>\n",
       "    <tr>\n",
       "      <th>445208</th>\n",
       "      <td>20</td>\n",
       "      <td>39</td>\n",
       "      <td>25</td>\n",
       "      <td>(0, -2, 86)</td>\n",
       "      <td>1</td>\n",
       "      <td>0</td>\n",
       "      <td>0.024811</td>\n",
       "    </tr>\n",
       "    <tr>\n",
       "      <th>445209</th>\n",
       "      <td>20</td>\n",
       "      <td>39</td>\n",
       "      <td>21</td>\n",
       "      <td>(0, -2, 91)</td>\n",
       "      <td>1</td>\n",
       "      <td>0</td>\n",
       "      <td>0.000014</td>\n",
       "    </tr>\n",
       "  </tbody>\n",
       "</table>\n",
       "<p>445210 rows × 7 columns</p>\n",
       "</div>"
      ],
      "text/plain": [
       "        Complexity threshold  KB  Complexity        Axiom  Expected  \\\n",
       "0                          2   0           4    (0, 1, 9)         1   \n",
       "1                          2   0           6   (0, 1, 50)         1   \n",
       "2                          2   0           5   (0, 1, 55)         1   \n",
       "3                          2   0           7   (0, 1, 63)         1   \n",
       "4                          2   0           5   (0, 1, 65)         1   \n",
       "...                      ...  ..         ...          ...       ...   \n",
       "445205                    20  39          24  (0, 89, 44)         1   \n",
       "445206                    20  39          22  (0, -2, 49)         1   \n",
       "445207                    20  39          24  (0, -2, 56)         1   \n",
       "445208                    20  39          25  (0, -2, 86)         1   \n",
       "445209                    20  39          21  (0, -2, 91)         1   \n",
       "\n",
       "        Predicted  Raw predicted  \n",
       "0               0       0.306261  \n",
       "1               1       0.924735  \n",
       "2               0       0.333867  \n",
       "3               1       0.729814  \n",
       "4               0       0.283852  \n",
       "...           ...            ...  \n",
       "445205          0       0.003385  \n",
       "445206          0       0.003953  \n",
       "445207          0       0.055731  \n",
       "445208          0       0.024811  \n",
       "445209          0       0.000014  \n",
       "\n",
       "[445210 rows x 7 columns]"
      ]
     },
     "execution_count": 8,
     "metadata": {},
     "output_type": "execute_result"
    }
   ],
   "source": [
    "df = pd.DataFrame(rows, columns=[\"Complexity threshold\", \"KB\", \"Complexity\", \"Axiom\", \"Expected\", \"Predicted\", \"Raw predicted\"])\n",
    "df.to_feather(base_dir / 'exp1.feather')\n",
    "df\n"
   ]
  }
 ],
 "metadata": {
  "kernelspec": {
   "display_name": "reasonable-embeddings",
   "language": "python",
   "name": "python3"
  },
  "language_info": {
   "codemirror_mode": {
    "name": "ipython",
    "version": 3
   },
   "file_extension": ".py",
   "mimetype": "text/x-python",
   "name": "python",
   "nbconvert_exporter": "python",
   "pygments_lexer": "ipython3",
   "version": "3.11.8"
  }
 },
 "nbformat": 4,
 "nbformat_minor": 0
}
