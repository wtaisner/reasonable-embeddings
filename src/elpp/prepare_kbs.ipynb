{
 "cells": [
  {
   "cell_type": "code",
   "execution_count": 1,
   "metadata": {
    "collapsed": false
   },
   "outputs": [
    {
     "name": "stdout",
     "output_type": "stream",
     "text": [
      "/home/wtaisner/PycharmProjects/reasonable-embeddings\n"
     ]
    }
   ],
   "source": [
    "cd ../.. "
   ]
  },
  {
   "cell_type": "code",
   "execution_count": 2,
   "metadata": {
    "collapsed": false
   },
   "outputs": [],
   "source": [
    "from pathlib import Path\n",
    "base_dir = Path('local/out/elpp/exp1')\n",
    "\n",
    "base_dir.mkdir(parents=True, exist_ok=True)"
   ]
  },
  {
   "cell_type": "code",
   "execution_count": 3,
   "metadata": {},
   "outputs": [],
   "source": [
    "class RetardedCodeError(Exception):\n",
    "    def __init__(self, message=\"Retarded code encountered\"):\n",
    "        self.message = message\n",
    "        super().__init__(self.message)"
   ]
  },
  {
   "cell_type": "code",
   "execution_count": 4,
   "metadata": {
    "collapsed": false
   },
   "outputs": [
    {
     "name": "stderr",
     "output_type": "stream",
     "text": [
      " 67%|██████▋   | 404/600 [00:03<00:01, 118.60it/s]\n",
      " 67%|██████▋   | 404/600 [00:03<00:01, 115.34it/s]\n",
      " 67%|██████▋   | 404/600 [00:03<00:01, 112.98it/s]\n",
      " 67%|██████▋   | 404/600 [00:03<00:01, 104.19it/s]\n",
      " 82%|████████▎ | 495/600 [00:05<00:01, 98.06it/s] \n",
      " 82%|████████▎ | 495/600 [00:05<00:01, 91.57it/s]]\n",
      " 82%|████████▎ | 495/600 [00:05<00:01, 97.84it/s]\n",
      " 82%|████████▎ | 495/600 [00:05<00:01, 89.59it/s]]\n",
      " 78%|███████▊  | 468/600 [00:05<00:01, 93.22it/s] \n",
      " 78%|███████▊  | 468/600 [00:04<00:01, 93.75it/s]]\n",
      " 78%|███████▊  | 468/600 [00:04<00:01, 93.86it/s]\n",
      " 78%|███████▊  | 468/600 [00:05<00:01, 91.87it/s]]\n",
      " 82%|████████▏ | 494/600 [00:07<00:01, 69.37it/s] \n",
      " 82%|████████▏ | 494/600 [00:07<00:01, 66.02it/s]]\n",
      " 82%|████████▏ | 494/600 [00:07<00:01, 65.24it/s]]\n",
      " 82%|████████▏ | 494/600 [00:07<00:01, 65.14it/s]]\n",
      " 90%|████████▉ | 537/600 [00:08<00:00, 64.12it/s] \n",
      " 90%|████████▉ | 537/600 [00:07<00:00, 67.41it/s]]\n",
      " 90%|████████▉ | 537/600 [00:08<00:00, 63.98it/s]\n",
      " 90%|████████▉ | 537/600 [00:08<00:00, 64.10it/s]]\n",
      "100%|██████████| 600/600 [00:10<00:00, 59.74it/s] \n",
      "100%|██████████| 600/600 [00:09<00:00, 63.98it/s]\n",
      "100%|██████████| 600/600 [00:09<00:00, 62.33it/s]\n",
      "100%|██████████| 600/600 [00:09<00:00, 61.40it/s]]\n",
      " 92%|█████████▏| 550/600 [00:08<00:00, 63.34it/s] \n",
      " 92%|█████████▏| 550/600 [00:08<00:00, 64.89it/s]\n",
      " 92%|█████████▏| 550/600 [00:08<00:00, 63.27it/s]\n",
      " 92%|█████████▏| 550/600 [00:08<00:00, 64.04it/s]\n",
      "100%|██████████| 600/600 [00:08<00:00, 73.81it/s] \n",
      "100%|██████████| 600/600 [00:07<00:00, 75.52it/s]\n",
      "100%|██████████| 600/600 [00:07<00:00, 77.11it/s]\n",
      "  9%|▉         | 56/600 [00:00<00:00, 553.33it/s]\n",
      "100%|██████████| 600/600 [00:08<00:00, 68.51it/s] \n",
      "100%|██████████| 600/600 [00:08<00:00, 67.65it/s]\n",
      "100%|██████████| 600/600 [00:08<00:00, 67.45it/s]\n",
      "  8%|▊         | 45/600 [00:00<00:01, 442.45it/s]\n",
      " 81%|████████  | 486/600 [00:05<00:01, 85.83it/s] \n",
      " 81%|████████  | 486/600 [00:05<00:01, 88.99it/s]\n",
      " 81%|████████  | 486/600 [00:05<00:01, 86.26it/s]\n",
      " 81%|████████  | 486/600 [00:05<00:01, 84.80it/s]\n",
      "100%|██████████| 600/600 [00:08<00:00, 66.72it/s] \n",
      "  8%|▊         | 47/600 [00:00<00:01, 467.54it/s]\n",
      "100%|██████████| 600/600 [00:08<00:00, 67.50it/s]\n",
      "100%|██████████| 600/600 [00:09<00:00, 63.70it/s]]\n",
      "100%|██████████| 600/600 [00:08<00:00, 74.13it/s] \n",
      "100%|██████████| 600/600 [00:08<00:00, 71.72it/s]\n",
      "100%|██████████| 600/600 [00:08<00:00, 72.68it/s]\n",
      "100%|██████████| 600/600 [00:08<00:00, 70.65it/s]]\n",
      " 83%|████████▎ | 496/600 [00:06<00:01, 77.80it/s] \n",
      " 83%|████████▎ | 496/600 [00:06<00:01, 78.30it/s]\n",
      " 83%|████████▎ | 496/600 [00:06<00:01, 76.82it/s]\n",
      " 83%|████████▎ | 496/600 [00:06<00:01, 77.70it/s]]\n",
      " 98%|█████████▊| 586/600 [00:08<00:00, 65.70it/s] \n",
      " 98%|█████████▊| 586/600 [00:09<00:00, 61.82it/s]]\n",
      " 98%|█████████▊| 586/600 [00:09<00:00, 62.05it/s]]\n",
      " 98%|█████████▊| 586/600 [00:09<00:00, 61.75it/s]]\n",
      "100%|██████████| 600/600 [00:06<00:00, 92.56it/s] \n",
      "100%|██████████| 600/600 [00:06<00:00, 94.96it/s]]\n",
      " 80%|████████  | 480/600 [00:04<00:01, 117.35it/s]\n",
      " 80%|████████  | 480/600 [00:04<00:01, 115.43it/s]\n",
      " 90%|█████████ | 543/600 [00:04<00:00, 126.95it/s]\n",
      " 92%|█████████▏| 554/600 [00:05<00:00, 107.22it/s]\n"
     ]
    }
   ],
   "source": [
    "from src.elpp.gen import gen\n",
    "import numpy as np\n",
    "from multiprocessing import Pool, cpu_count\n",
    "\n",
    "rng = np.random.default_rng(seed=42)\n",
    "\n",
    "n_concepts = 300\n",
    "n_roles = 5\n",
    "n_proofs = 100\n",
    "\n",
    "n_epochs = 600\n",
    "\n",
    "\n",
    "def generate_reasoner(_):\n",
    "    reasoner = gen(n_concepts=n_concepts, n_roles=n_roles, rng=rng, n_proofs=n_proofs, n_epochs=n_epochs)\n",
    "    if reasoner is None:\n",
    "        raise RetardedCodeError()\n",
    "    return reasoner\n",
    "\n",
    "with Pool(cpu_count() // 2) as p:\n",
    "    reasoners = p.map(generate_reasoner, range(40))\n",
    "\n",
    "if None in reasoners:\n",
    "    raise RetardedCodeError()"
   ]
  },
  {
   "cell_type": "code",
   "execution_count": 5,
   "metadata": {},
   "outputs": [
    {
     "data": {
      "text/plain": [
       "False"
      ]
     },
     "execution_count": 5,
     "metadata": {},
     "output_type": "execute_result"
    }
   ],
   "source": [
    "None in reasoners"
   ]
  },
  {
   "cell_type": "code",
   "execution_count": 7,
   "metadata": {
    "collapsed": false
   },
   "outputs": [],
   "source": [
    "import lzma\n",
    "import dill\n",
    "\n",
    "with lzma.open(base_dir / f'reasoners_{n_concepts}_concepts_{n_roles}_roles_{n_proofs}_proofs.dill.xz', 'wb') as f:\n",
    "    dill.dump(reasoners, f)"
   ]
  },
  {
   "cell_type": "code",
   "execution_count": 8,
   "metadata": {
    "collapsed": false
   },
   "outputs": [
    {
     "name": "stderr",
     "output_type": "stream",
     "text": [
      "  0%|          | 0/600 [00:00<?, ?it/s]"
     ]
    },
    {
     "name": "stderr",
     "output_type": "stream",
     "text": [
      " 85%|████████▍ | 509/600 [00:06<00:01, 78.30it/s] \n",
      " 85%|████████▍ | 509/600 [00:06<00:01, 77.91it/s]\n",
      " 85%|████████▍ | 509/600 [00:06<00:01, 77.72it/s]\n",
      " 85%|████████▍ | 509/600 [00:06<00:01, 75.30it/s]\n",
      "100%|██████████| 600/600 [00:09<00:00, 60.57it/s] \n",
      "100%|██████████| 600/600 [00:10<00:00, 59.91it/s]\n",
      "100%|██████████| 600/600 [00:10<00:00, 59.17it/s]\n",
      "  7%|▋         | 41/600 [00:00<00:01, 397.73it/s]\n",
      " 68%|██████▊   | 410/600 [00:07<00:07, 24.65it/s] \n",
      " 69%|██████▉   | 413/600 [00:07<00:03, 56.18it/s]\n",
      " 69%|██████▉   | 413/600 [00:07<00:03, 55.46it/s]\n",
      " 69%|██████▉   | 413/600 [00:07<00:03, 53.39it/s]]\n",
      " 88%|████████▊ | 531/600 [00:08<00:01, 61.47it/s] \n",
      " 88%|████████▊ | 529/600 [00:08<00:02, 33.25it/s]\n",
      " 88%|████████▊ | 531/600 [00:08<00:01, 62.27it/s]\n",
      " 19%|█▉        | 115/600 [00:00<00:01, 254.91it/s]\n",
      " 94%|█████████▍| 565/600 [00:09<00:00, 62.66it/s] \n",
      " 94%|█████████▍| 565/600 [00:09<00:00, 61.29it/s]\n",
      " 94%|█████████▍| 565/600 [00:08<00:00, 62.94it/s]\n",
      " 94%|█████████▍| 565/600 [00:08<00:00, 63.49it/s]]\n",
      " 59%|█████▉    | 355/600 [00:02<00:01, 126.82it/s]\n",
      " 59%|█████▉    | 355/600 [00:02<00:02, 122.36it/s]\n",
      " 73%|███████▎  | 439/600 [00:03<00:01, 126.05it/s]\n",
      " 73%|███████▎  | 439/600 [00:04<00:01, 109.35it/s]\n"
     ]
    }
   ],
   "source": [
    "rng = np.random.default_rng(seed=0xc0ffee)\n",
    "\n",
    "with Pool(cpu_count() // 2) as p:\n",
    "    test_reasoners = p.map(generate_reasoner, range(20))"
   ]
  },
  {
   "cell_type": "code",
   "execution_count": 9,
   "metadata": {},
   "outputs": [
    {
     "data": {
      "text/plain": [
       "False"
      ]
     },
     "execution_count": 9,
     "metadata": {},
     "output_type": "execute_result"
    }
   ],
   "source": [
    "None in test_reasoners"
   ]
  },
  {
   "cell_type": "code",
   "execution_count": 10,
   "metadata": {
    "collapsed": false
   },
   "outputs": [],
   "source": [
    "with lzma.open(base_dir / f'test_reasoners_{n_concepts}_concepts_{n_roles}_roles_{n_proofs}_proofs.dill.xz', 'wb') as f:\n",
    "    dill.dump(test_reasoners, f)"
   ]
  }
 ],
 "metadata": {
  "kernelspec": {
   "display_name": "reasonable-embeddings",
   "language": "python",
   "name": "python3"
  },
  "language_info": {
   "codemirror_mode": {
    "name": "ipython",
    "version": 3
   },
   "file_extension": ".py",
   "mimetype": "text/x-python",
   "name": "python",
   "nbconvert_exporter": "python",
   "pygments_lexer": "ipython3",
   "version": "3.11.8"
  }
 },
 "nbformat": 4,
 "nbformat_minor": 0
}
