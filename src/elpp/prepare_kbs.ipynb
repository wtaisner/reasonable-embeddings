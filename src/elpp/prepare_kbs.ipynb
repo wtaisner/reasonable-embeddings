{
 "cells": [
  {
   "cell_type": "code",
   "execution_count": null,
   "metadata": {
    "collapsed": false
   },
   "outputs": [],
   "source": [
    "cd ../.. "
   ]
  },
  {
   "cell_type": "code",
   "execution_count": null,
   "metadata": {
    "collapsed": false
   },
   "outputs": [],
   "source": [
    "from pathlib import Path\n",
    "base_dir = Path('local/out/elpp/exp1')\n",
    "\n",
    "base_dir.mkdir(parents=True, exist_ok=True)"
   ]
  },
  {
   "cell_type": "code",
   "execution_count": null,
   "metadata": {},
   "outputs": [],
   "source": [
    "class NoneReasonerError(Exception):\n",
    "    def __init__(self, message=\"None encountered\"):\n",
    "        self.message = message\n",
    "        super().__init__(self.message)"
   ]
  },
  {
   "cell_type": "code",
   "execution_count": null,
   "metadata": {
    "collapsed": false
   },
   "outputs": [],
   "source": [
    "from src.elpp.gen import gen\n",
    "import numpy as np\n",
    "from multiprocessing import Pool, cpu_count\n",
    "\n",
    "rng = np.random.default_rng(seed=42)\n",
    "\n",
    "n_concepts = 300\n",
    "n_roles = 5\n",
    "n_proofs = 200\n",
    "\n",
    "n_epochs = 1000\n",
    "\n",
    "\n",
    "def generate_reasoner(_):\n",
    "    reasoner = gen(n_concepts=n_concepts, n_roles=n_roles, rng=rng, n_proofs=n_proofs, n_epochs=n_epochs)\n",
    "    if reasoner is None:\n",
    "        raise NoneReasonerError()\n",
    "    return reasoner\n",
    "\n",
    "with Pool(cpu_count() // 2) as p:\n",
    "    reasoners = p.map(generate_reasoner, range(40))"
   ]
  },
  {
   "cell_type": "code",
   "execution_count": null,
   "metadata": {},
   "outputs": [],
   "source": [
    "None in reasoners"
   ]
  },
  {
   "cell_type": "code",
   "execution_count": null,
   "metadata": {
    "collapsed": false
   },
   "outputs": [],
   "source": [
    "import lzma\n",
    "import dill\n",
    "\n",
    "with lzma.open(base_dir / f'reasoners_{n_concepts}_concepts_{n_roles}_roles_{n_proofs}_proofs.dill.xz', 'wb') as f:\n",
    "    dill.dump(reasoners, f)"
   ]
  },
  {
   "cell_type": "code",
   "execution_count": null,
   "metadata": {
    "collapsed": false
   },
   "outputs": [],
   "source": [
    "rng = np.random.default_rng(seed=0xc0ffee)\n",
    "\n",
    "with Pool(cpu_count() // 2) as p:\n",
    "    test_reasoners = p.map(generate_reasoner, range(20))"
   ]
  },
  {
   "cell_type": "code",
   "execution_count": null,
   "metadata": {},
   "outputs": [],
   "source": [
    "None in test_reasoners"
   ]
  },
  {
   "cell_type": "code",
   "execution_count": null,
   "metadata": {
    "collapsed": false
   },
   "outputs": [],
   "source": [
    "with lzma.open(base_dir / f'test_reasoners_{n_concepts}_concepts_{n_roles}_roles_{n_proofs}_proofs.dill.xz', 'wb') as f:\n",
    "    dill.dump(test_reasoners, f)"
   ]
  }
 ],
 "metadata": {
  "kernelspec": {
   "display_name": "reasonable-embeddings",
   "language": "python",
   "name": "python3"
  },
  "language_info": {
   "codemirror_mode": {
    "name": "ipython",
    "version": 3
   },
   "file_extension": ".py",
   "mimetype": "text/x-python",
   "name": "python",
   "nbconvert_exporter": "python",
   "pygments_lexer": "ipython3",
   "version": "3.11.8"
  }
 },
 "nbformat": 4,
 "nbformat_minor": 0
}
