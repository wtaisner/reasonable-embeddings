{
 "cells": [
  {
   "cell_type": "code",
   "execution_count": 1,
   "metadata": {
    "collapsed": false
   },
   "outputs": [
    {
     "name": "stdout",
     "output_type": "stream",
     "text": [
      "/home/wtaisner/PycharmProjects/reasonable-embeddings\n"
     ]
    }
   ],
   "source": [
    "cd ../.. "
   ]
  },
  {
   "cell_type": "code",
   "execution_count": 2,
   "metadata": {
    "collapsed": false
   },
   "outputs": [],
   "source": [
    "from pathlib import Path\n",
    "base_dir = Path('local/out/elpp/exp1')\n",
    "\n",
    "base_dir.mkdir(parents=True, exist_ok=True)"
   ]
  },
  {
   "cell_type": "code",
   "execution_count": 5,
   "metadata": {
    "collapsed": false
   },
   "outputs": [
    {
     "name": "stderr",
     "output_type": "stream",
     "text": [
      " 69%|██████▉   | 207/300 [00:00<00:00, 421.62it/s]\n",
      "100%|██████████| 300/300 [00:00<00:00, 403.31it/s]\n",
      " 83%|████████▎ | 248/300 [00:00<00:00, 449.92it/s]\n",
      "100%|██████████| 300/300 [00:00<00:00, 396.37it/s]\n",
      "100%|██████████| 300/300 [00:00<00:00, 374.40it/s]\n",
      " 77%|███████▋  | 232/300 [00:00<00:00, 447.47it/s]\n",
      "100%|██████████| 300/300 [00:00<00:00, 317.64it/s]\n",
      " 78%|███████▊  | 233/300 [00:00<00:00, 489.37it/s]\n",
      " 82%|████████▏ | 247/300 [00:00<00:00, 457.90it/s]\n",
      " 58%|█████▊    | 174/300 [00:00<00:00, 549.56it/s]\n",
      " 86%|████████▋ | 259/300 [00:00<00:00, 405.71it/s]\n",
      " 66%|██████▌   | 198/300 [00:00<00:00, 532.23it/s]\n",
      "100%|██████████| 300/300 [00:00<00:00, 316.99it/s]\n",
      " 97%|█████████▋| 291/300 [00:00<00:00, 373.05it/s]\n",
      " 78%|███████▊  | 234/300 [00:00<00:00, 504.73it/s]\n",
      " 84%|████████▎ | 251/300 [00:00<00:00, 464.38it/s]\n",
      " 94%|█████████▍| 282/300 [00:00<00:00, 331.61it/s]\n",
      "100%|██████████| 300/300 [00:00<00:00, 371.93it/s] \n",
      " 93%|█████████▎| 279/300 [00:00<00:00, 334.51it/s]\n",
      " 47%|████▋     | 141/300 [00:00<00:00, 721.48it/s]\n",
      " 65%|██████▌   | 196/300 [00:00<00:00, 554.18it/s]\n",
      " 56%|█████▌    | 167/300 [00:00<00:00, 632.60it/s]\n",
      " 75%|███████▌  | 225/300 [00:00<00:00, 539.63it/s]\n",
      "100%|██████████| 300/300 [00:00<00:00, 413.91it/s]\n",
      "100%|██████████| 300/300 [00:00<00:00, 424.66it/s]\n",
      "100%|██████████| 300/300 [00:00<00:00, 409.23it/s] \n",
      " 83%|████████▎ | 250/300 [00:00<00:00, 515.84it/s] \n",
      " 89%|████████▉ | 268/300 [00:00<00:00, 368.24it/s]\n",
      " 96%|█████████▌| 287/300 [00:00<00:00, 446.74it/s] \n",
      " 99%|█████████▉| 298/300 [00:00<00:00, 432.28it/s] \n",
      " 99%|█████████▉| 297/300 [00:00<00:00, 407.64it/s]\n",
      " 59%|█████▊    | 176/300 [00:00<00:00, 689.96it/s] \n",
      " 66%|██████▋   | 199/300 [00:00<00:00, 606.59it/s]\n",
      " 70%|███████   | 211/300 [00:00<00:00, 525.70it/s]\n",
      "100%|██████████| 300/300 [00:00<00:00, 420.29it/s]\n",
      " 62%|██████▏   | 186/300 [00:00<00:00, 615.30it/s]\n",
      " 86%|████████▌ | 257/300 [00:00<00:00, 512.53it/s] \n",
      " 63%|██████▎   | 188/300 [00:00<00:00, 435.98it/s]\n",
      "100%|██████████| 300/300 [00:00<00:00, 351.52it/s]\n",
      " 65%|██████▌   | 196/300 [00:00<00:00, 561.97it/s]\n",
      " 79%|███████▉  | 238/300 [00:00<00:00, 512.95it/s]\n",
      " 63%|██████▎   | 189/300 [00:00<00:00, 621.87it/s]\n",
      "100%|██████████| 300/300 [00:00<00:00, 384.59it/s]\n",
      " 84%|████████▎ | 251/300 [00:00<00:00, 530.28it/s] \n",
      "100%|██████████| 300/300 [00:00<00:00, 449.89it/s]\n",
      " 56%|█████▌    | 168/300 [00:00<00:00, 748.48it/s] \n",
      "100%|██████████| 300/300 [00:00<00:00, 441.57it/s]\n",
      " 64%|██████▍   | 193/300 [00:00<00:00, 595.95it/s]\n",
      " 70%|██████▉   | 209/300 [00:00<00:00, 603.88it/s] \n",
      "100%|██████████| 300/300 [00:00<00:00, 395.35it/s]\n",
      " 97%|█████████▋| 290/300 [00:00<00:00, 405.93it/s]\n",
      " 65%|██████▍   | 194/300 [00:00<00:00, 654.54it/s] \n",
      " 79%|███████▊  | 236/300 [00:00<00:00, 497.46it/s]\n",
      "100%|██████████| 300/300 [00:00<00:00, 426.86it/s]\n",
      " 61%|██████▏   | 184/300 [00:00<00:00, 654.46it/s]\n",
      " 85%|████████▌ | 255/300 [00:00<00:00, 533.69it/s] \n"
     ]
    }
   ],
   "source": [
    "from src.elpp.gen import gen\n",
    "import numpy as np\n",
    "\n",
    "rng = np.random.default_rng(seed=42)\n",
    "\n",
    "n_concepts = 400\n",
    "n_roles = 4\n",
    "n_proofs = 1\n",
    "\n",
    "reasoners = [\n",
    "    gen(n_concepts=n_concepts, n_roles=n_roles, rng=rng, n_proofs=n_proofs) for _ in range(40)\n",
    "]"
   ]
  },
  {
   "cell_type": "code",
   "execution_count": 6,
   "metadata": {},
   "outputs": [
    {
     "data": {
      "text/plain": [
       "[<ElNaive.ElNaive at 0x78014d2f0750>,\n",
       " <ElNaive.ElNaive at 0x78014ca5fdd0>,\n",
       " <ElNaive.ElNaive at 0x78014de38390>,\n",
       " <ElNaive.ElNaive at 0x78014c808310>,\n",
       " <ElNaive.ElNaive at 0x78014d52f290>,\n",
       " <ElNaive.ElNaive at 0x78014ca07ad0>,\n",
       " <ElNaive.ElNaive at 0x78014c7dad90>,\n",
       " <ElNaive.ElNaive at 0x78014de786d0>,\n",
       " <ElNaive.ElNaive at 0x78014c5b11d0>,\n",
       " <ElNaive.ElNaive at 0x78014c8c2ed0>,\n",
       " <ElNaive.ElNaive at 0x78014c5b1450>,\n",
       " <ElNaive.ElNaive at 0x78014c839e90>,\n",
       " <ElNaive.ElNaive at 0x78014c5790d0>,\n",
       " <ElNaive.ElNaive at 0x78014c58da90>,\n",
       " <ElNaive.ElNaive at 0x78014c56b490>,\n",
       " <ElNaive.ElNaive at 0x78014c5b3590>,\n",
       " <ElNaive.ElNaive at 0x78014c4890d0>,\n",
       " <ElNaive.ElNaive at 0x78014d2ef690>,\n",
       " <ElNaive.ElNaive at 0x78014cbfb0d0>,\n",
       " <ElNaive.ElNaive at 0x78014c56b2d0>,\n",
       " <ElNaive.ElNaive at 0x78014c21b750>,\n",
       " <ElNaive.ElNaive at 0x78014c215f10>,\n",
       " <ElNaive.ElNaive at 0x78014cc22f50>,\n",
       " <ElNaive.ElNaive at 0x78014c13a410>,\n",
       " <ElNaive.ElNaive at 0x78014c13aa50>,\n",
       " <ElNaive.ElNaive at 0x780147f74b90>,\n",
       " <ElNaive.ElNaive at 0x78014c18afd0>,\n",
       " <ElNaive.ElNaive at 0x780147f9b5d0>,\n",
       " <ElNaive.ElNaive at 0x780147eeaad0>,\n",
       " <ElNaive.ElNaive at 0x78014c579790>,\n",
       " <ElNaive.ElNaive at 0x78014de20050>,\n",
       " <ElNaive.ElNaive at 0x780147c08c90>,\n",
       " <ElNaive.ElNaive at 0x780147c10990>,\n",
       " <ElNaive.ElNaive at 0x780147cc5250>,\n",
       " <ElNaive.ElNaive at 0x78014d488290>,\n",
       " <ElNaive.ElNaive at 0x780147b5d010>,\n",
       " <ElNaive.ElNaive at 0x78014cddc250>,\n",
       " <ElNaive.ElNaive at 0x78014d21d110>,\n",
       " <ElNaive.ElNaive at 0x780147a711d0>,\n",
       " <ElNaive.ElNaive at 0x78014c5f4250>]"
      ]
     },
     "execution_count": 6,
     "metadata": {},
     "output_type": "execute_result"
    }
   ],
   "source": [
    "reasoners"
   ]
  },
  {
   "cell_type": "code",
   "execution_count": 7,
   "metadata": {
    "collapsed": false
   },
   "outputs": [],
   "source": [
    "import lzma\n",
    "import dill\n",
    "\n",
    "with lzma.open(base_dir / f'reasoners_{n_concepts}_concepts_{n_roles}_roles_{n_proofs}_proofs.dill.xz', 'wb') as f:\n",
    "    dill.dump(reasoners, f)"
   ]
  },
  {
   "cell_type": "code",
   "execution_count": 8,
   "metadata": {
    "collapsed": false
   },
   "outputs": [
    {
     "name": "stderr",
     "output_type": "stream",
     "text": [
      "  0%|          | 0/300 [00:00<?, ?it/s]"
     ]
    },
    {
     "name": "stderr",
     "output_type": "stream",
     "text": [
      "100%|██████████| 300/300 [00:00<00:00, 334.47it/s]\n",
      " 76%|███████▋  | 229/300 [00:00<00:00, 471.03it/s]\n",
      " 52%|█████▏    | 155/300 [00:00<00:00, 444.15it/s]\n",
      " 60%|██████    | 181/300 [00:00<00:00, 556.08it/s]\n",
      "100%|██████████| 300/300 [00:00<00:00, 331.34it/s]\n",
      " 70%|███████   | 210/300 [00:00<00:00, 503.19it/s]\n",
      "100%|██████████| 300/300 [00:00<00:00, 350.84it/s]\n",
      " 73%|███████▎  | 218/300 [00:00<00:00, 509.98it/s]\n",
      "100%|██████████| 300/300 [00:00<00:00, 413.04it/s]\n",
      " 73%|███████▎  | 220/300 [00:00<00:00, 540.11it/s]\n",
      " 95%|█████████▌| 285/300 [00:00<00:00, 429.19it/s]\n",
      " 70%|██████▉   | 209/300 [00:00<00:00, 429.73it/s]\n",
      " 70%|███████   | 211/300 [00:00<00:00, 576.27it/s]\n",
      " 81%|████████  | 243/300 [00:00<00:00, 502.75it/s] \n",
      "100%|██████████| 300/300 [00:00<00:00, 424.18it/s] \n",
      "100%|██████████| 300/300 [00:00<00:00, 436.81it/s]\n",
      " 86%|████████▌ | 257/300 [00:00<00:00, 342.59it/s]\n",
      " 94%|█████████▍| 283/300 [00:00<00:00, 459.05it/s] \n",
      " 82%|████████▏ | 245/300 [00:00<00:00, 509.37it/s]\n",
      " 78%|███████▊  | 233/300 [00:00<00:00, 510.36it/s]\n",
      "100%|██████████| 300/300 [00:00<00:00, 416.00it/s]\n",
      "100%|██████████| 300/300 [00:00<00:00, 465.00it/s]\n",
      " 83%|████████▎ | 249/300 [00:00<00:00, 520.45it/s]\n",
      "100%|██████████| 300/300 [00:00<00:00, 468.82it/s] \n",
      " 66%|██████▌   | 197/300 [00:00<00:00, 603.58it/s]\n",
      " 34%|███▍      | 103/300 [00:00<00:00, 831.30it/s]\n",
      " 97%|█████████▋| 290/300 [00:00<00:00, 391.80it/s] \n",
      "100%|██████████| 300/300 [00:00<00:00, 348.38it/s]\n",
      " 89%|████████▉ | 268/300 [00:00<00:00, 458.36it/s] \n",
      "100%|██████████| 300/300 [00:00<00:00, 339.59it/s]\n",
      " 60%|██████    | 181/300 [00:00<00:00, 387.54it/s]\n"
     ]
    }
   ],
   "source": [
    "rng = np.random.default_rng(seed=0xc0ffee)\n",
    "\n",
    "test_reasoners = [gen(n_concepts=n_concepts, n_roles=n_roles, rng=rng, n_proofs=n_proofs) for _ in range(20)]"
   ]
  },
  {
   "cell_type": "code",
   "execution_count": 6,
   "metadata": {
    "collapsed": false
   },
   "outputs": [],
   "source": [
    "with lzma.open(base_dir / f'test_reasoners_{n_concepts}_concepts_{n_roles}_roles_{n_proofs}_proofs.dill.xz', 'wb') as f:\n",
    "    dill.dump(test_reasoners, f)"
   ]
  }
 ],
 "metadata": {
  "kernelspec": {
   "display_name": "reasonable-embeddings",
   "language": "python",
   "name": "python3"
  },
  "language_info": {
   "codemirror_mode": {
    "name": "ipython",
    "version": 3
   },
   "file_extension": ".py",
   "mimetype": "text/x-python",
   "name": "python",
   "nbconvert_exporter": "python",
   "pygments_lexer": "ipython3",
   "version": "3.11.8"
  }
 },
 "nbformat": 4,
 "nbformat_minor": 0
}
