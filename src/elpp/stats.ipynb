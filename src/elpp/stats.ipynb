{
 "cells": [
  {
   "cell_type": "code",
   "execution_count": 1,
   "metadata": {
    "collapsed": true
   },
   "outputs": [
    {
     "name": "stdout",
     "output_type": "stream",
     "text": [
      "/home/smaug/ownCloud/praca/reasonable-embeddings/src\n"
     ]
    }
   ],
   "source": [
    "cd .."
   ]
  },
  {
   "cell_type": "code",
   "execution_count": 2,
   "outputs": [],
   "source": [
    "from pathlib import Path\n",
    "\n",
    "base_dir = Path('../local/out/elpp/')\n",
    "\n",
    "base_dir.mkdir(parents=True, exist_ok=True)"
   ],
   "metadata": {
    "collapsed": false
   }
  },
  {
   "cell_type": "code",
   "execution_count": 3,
   "outputs": [],
   "source": [
    "import lzma\n",
    "import dill\n",
    "\n",
    "with lzma.open(base_dir / 'reasoners.dill.xz', 'rb') as f:\n",
    "    reasoners = dill.load(f)\n"
   ],
   "metadata": {
    "collapsed": false
   }
  },
  {
   "cell_type": "code",
   "execution_count": 4,
   "outputs": [],
   "source": [
    "with lzma.open(base_dir / 'test_reasoners.dill.xz', 'rb') as f:\n",
    "    test_reasoners = dill.load(f)\n"
   ],
   "metadata": {
    "collapsed": false
   }
  },
  {
   "cell_type": "code",
   "execution_count": 39,
   "outputs": [],
   "source": [
    "from src.elpp.ElNaive import ElNaive\n",
    "import pandas as pd\n",
    "\n",
    "def proofs_to_df(reasoners: list[ElNaive], min_proof_length: int) -> pd.DataFrame:\n",
    "    rows = []\n",
    "    for i, reasoner in enumerate(reasoners):\n",
    "        for sub in range(reasoner.n_concepts):\n",
    "            for sup, proof in reasoner.S[sub].items():\n",
    "                if len(proof) >= min_proof_length:\n",
    "                    rows.append([i, sub, sup, len(proof)])\n",
    "    df = pd.DataFrame(rows, columns=['Reasoner', 'Subclass', 'Superclass', 'Length'])\n",
    "    return df\n"
   ],
   "metadata": {
    "collapsed": false
   }
  },
  {
   "cell_type": "code",
   "execution_count": 40,
   "outputs": [],
   "source": [
    "from IPython.core.display import HTML\n",
    "\n",
    "\n",
    "def summary(df: pd.DataFrame):\n",
    "    display(HTML(\"<h4>Macro average</h4>\"))\n",
    "    display(df.groupby('Reasoner')['Length'].describe()[['count', 'mean']].describe())\n",
    "    display(HTML(\"<h4>Micro average</h4>\"))\n",
    "    display(df['Length'].describe())"
   ],
   "metadata": {
    "collapsed": false
   }
  },
  {
   "cell_type": "markdown",
   "source": [
    "### Training set, non-asserted"
   ],
   "metadata": {
    "collapsed": false
   }
  },
  {
   "cell_type": "code",
   "execution_count": 42,
   "outputs": [
    {
     "data": {
      "text/plain": "<IPython.core.display.HTML object>",
      "text/html": "<h4>Macro average</h4>"
     },
     "metadata": {},
     "output_type": "display_data"
    },
    {
     "data": {
      "text/plain": "             count       mean\ncount    40.000000  40.000000\nmean    870.525000  12.707820\nstd    1427.168974   9.537185\nmin     246.000000   4.168478\n25%     322.500000   6.598089\n50%     373.500000   8.799056\n75%     643.000000  13.933403\nmax    7670.000000  42.036008",
      "text/html": "<div>\n<style scoped>\n    .dataframe tbody tr th:only-of-type {\n        vertical-align: middle;\n    }\n\n    .dataframe tbody tr th {\n        vertical-align: top;\n    }\n\n    .dataframe thead th {\n        text-align: right;\n    }\n</style>\n<table border=\"1\" class=\"dataframe\">\n  <thead>\n    <tr style=\"text-align: right;\">\n      <th></th>\n      <th>count</th>\n      <th>mean</th>\n    </tr>\n  </thead>\n  <tbody>\n    <tr>\n      <th>count</th>\n      <td>40.000000</td>\n      <td>40.000000</td>\n    </tr>\n    <tr>\n      <th>mean</th>\n      <td>870.525000</td>\n      <td>12.707820</td>\n    </tr>\n    <tr>\n      <th>std</th>\n      <td>1427.168974</td>\n      <td>9.537185</td>\n    </tr>\n    <tr>\n      <th>min</th>\n      <td>246.000000</td>\n      <td>4.168478</td>\n    </tr>\n    <tr>\n      <th>25%</th>\n      <td>322.500000</td>\n      <td>6.598089</td>\n    </tr>\n    <tr>\n      <th>50%</th>\n      <td>373.500000</td>\n      <td>8.799056</td>\n    </tr>\n    <tr>\n      <th>75%</th>\n      <td>643.000000</td>\n      <td>13.933403</td>\n    </tr>\n    <tr>\n      <th>max</th>\n      <td>7670.000000</td>\n      <td>42.036008</td>\n    </tr>\n  </tbody>\n</table>\n</div>"
     },
     "metadata": {},
     "output_type": "display_data"
    },
    {
     "data": {
      "text/plain": "<IPython.core.display.HTML object>",
      "text/html": "<h4>Micro average</h4>"
     },
     "metadata": {},
     "output_type": "display_data"
    },
    {
     "data": {
      "text/plain": "count    34821.000000\nmean        22.886390\nstd         17.341742\nmin          2.000000\n25%          8.000000\n50%         17.000000\n75%         36.000000\nmax         87.000000\nName: Length, dtype: float64"
     },
     "metadata": {},
     "output_type": "display_data"
    }
   ],
   "source": [
    "summary(proofs_to_df(reasoners, 2))"
   ],
   "metadata": {
    "collapsed": false
   }
  },
  {
   "cell_type": "markdown",
   "source": [
    "### Training set, all"
   ],
   "metadata": {
    "collapsed": false
   }
  },
  {
   "cell_type": "code",
   "execution_count": 43,
   "outputs": [
    {
     "data": {
      "text/plain": "<IPython.core.display.HTML object>",
      "text/html": "<h4>Macro average</h4>"
     },
     "metadata": {},
     "output_type": "display_data"
    },
    {
     "data": {
      "text/plain": "             count       mean\ncount    40.000000  40.000000\nmean   1123.775000   9.323274\nstd    1429.637904   9.143492\nmin     498.000000   2.560582\n25%     575.250000   3.948414\n50%     633.500000   5.154918\n75%     899.250000   9.550639\nmax    7930.000000  37.219390",
      "text/html": "<div>\n<style scoped>\n    .dataframe tbody tr th:only-of-type {\n        vertical-align: middle;\n    }\n\n    .dataframe tbody tr th {\n        vertical-align: top;\n    }\n\n    .dataframe thead th {\n        text-align: right;\n    }\n</style>\n<table border=\"1\" class=\"dataframe\">\n  <thead>\n    <tr style=\"text-align: right;\">\n      <th></th>\n      <th>count</th>\n      <th>mean</th>\n    </tr>\n  </thead>\n  <tbody>\n    <tr>\n      <th>count</th>\n      <td>40.000000</td>\n      <td>40.000000</td>\n    </tr>\n    <tr>\n      <th>mean</th>\n      <td>1123.775000</td>\n      <td>9.323274</td>\n    </tr>\n    <tr>\n      <th>std</th>\n      <td>1429.637904</td>\n      <td>9.143492</td>\n    </tr>\n    <tr>\n      <th>min</th>\n      <td>498.000000</td>\n      <td>2.560582</td>\n    </tr>\n    <tr>\n      <th>25%</th>\n      <td>575.250000</td>\n      <td>3.948414</td>\n    </tr>\n    <tr>\n      <th>50%</th>\n      <td>633.500000</td>\n      <td>5.154918</td>\n    </tr>\n    <tr>\n      <th>75%</th>\n      <td>899.250000</td>\n      <td>9.550639</td>\n    </tr>\n    <tr>\n      <th>max</th>\n      <td>7930.000000</td>\n      <td>37.219390</td>\n    </tr>\n  </tbody>\n</table>\n</div>"
     },
     "metadata": {},
     "output_type": "display_data"
    },
    {
     "data": {
      "text/plain": "<IPython.core.display.HTML object>",
      "text/html": "<h4>Micro average</h4>"
     },
     "metadata": {},
     "output_type": "display_data"
    },
    {
     "data": {
      "text/plain": "count    44951.000000\nmean        17.776179\nstd         17.965708\nmin          0.000000\n25%          2.000000\n50%         12.000000\n75%         30.000000\nmax         87.000000\nName: Length, dtype: float64"
     },
     "metadata": {},
     "output_type": "display_data"
    }
   ],
   "source": [
    "summary(proofs_to_df(reasoners, 0))\n"
   ],
   "metadata": {
    "collapsed": false
   }
  },
  {
   "cell_type": "markdown",
   "source": [
    "### Training set, non-asserted\n"
   ],
   "metadata": {
    "collapsed": false
   }
  },
  {
   "cell_type": "code",
   "execution_count": 44,
   "outputs": [
    {
     "data": {
      "text/plain": "<IPython.core.display.HTML object>",
      "text/html": "<h4>Macro average</h4>"
     },
     "metadata": {},
     "output_type": "display_data"
    },
    {
     "data": {
      "text/plain": "             count       mean\ncount    40.000000  40.000000\nmean    870.525000  12.707820\nstd    1427.168974   9.537185\nmin     246.000000   4.168478\n25%     322.500000   6.598089\n50%     373.500000   8.799056\n75%     643.000000  13.933403\nmax    7670.000000  42.036008",
      "text/html": "<div>\n<style scoped>\n    .dataframe tbody tr th:only-of-type {\n        vertical-align: middle;\n    }\n\n    .dataframe tbody tr th {\n        vertical-align: top;\n    }\n\n    .dataframe thead th {\n        text-align: right;\n    }\n</style>\n<table border=\"1\" class=\"dataframe\">\n  <thead>\n    <tr style=\"text-align: right;\">\n      <th></th>\n      <th>count</th>\n      <th>mean</th>\n    </tr>\n  </thead>\n  <tbody>\n    <tr>\n      <th>count</th>\n      <td>40.000000</td>\n      <td>40.000000</td>\n    </tr>\n    <tr>\n      <th>mean</th>\n      <td>870.525000</td>\n      <td>12.707820</td>\n    </tr>\n    <tr>\n      <th>std</th>\n      <td>1427.168974</td>\n      <td>9.537185</td>\n    </tr>\n    <tr>\n      <th>min</th>\n      <td>246.000000</td>\n      <td>4.168478</td>\n    </tr>\n    <tr>\n      <th>25%</th>\n      <td>322.500000</td>\n      <td>6.598089</td>\n    </tr>\n    <tr>\n      <th>50%</th>\n      <td>373.500000</td>\n      <td>8.799056</td>\n    </tr>\n    <tr>\n      <th>75%</th>\n      <td>643.000000</td>\n      <td>13.933403</td>\n    </tr>\n    <tr>\n      <th>max</th>\n      <td>7670.000000</td>\n      <td>42.036008</td>\n    </tr>\n  </tbody>\n</table>\n</div>"
     },
     "metadata": {},
     "output_type": "display_data"
    },
    {
     "data": {
      "text/plain": "<IPython.core.display.HTML object>",
      "text/html": "<h4>Micro average</h4>"
     },
     "metadata": {},
     "output_type": "display_data"
    },
    {
     "data": {
      "text/plain": "count    34821.000000\nmean        22.886390\nstd         17.341742\nmin          2.000000\n25%          8.000000\n50%         17.000000\n75%         36.000000\nmax         87.000000\nName: Length, dtype: float64"
     },
     "metadata": {},
     "output_type": "display_data"
    }
   ],
   "source": [
    "summary(proofs_to_df(reasoners, 2))\n"
   ],
   "metadata": {
    "collapsed": false
   }
  },
  {
   "cell_type": "markdown",
   "source": [
    "### Test set, all\n"
   ],
   "metadata": {
    "collapsed": false
   }
  },
  {
   "cell_type": "code",
   "execution_count": 48,
   "outputs": [
    {
     "data": {
      "text/plain": "<IPython.core.display.HTML object>",
      "text/html": "<h4>Macro average</h4>"
     },
     "metadata": {},
     "output_type": "display_data"
    },
    {
     "data": {
      "text/plain": "             count       mean\ncount    20.000000  20.000000\nmean   1422.900000   9.985254\nstd    1861.368763   9.764511\nmin     520.000000   3.445438\n25%     563.500000   4.237350\n50%     630.500000   6.185383\n75%     881.000000  10.095862\nmax    7461.000000  37.436800",
      "text/html": "<div>\n<style scoped>\n    .dataframe tbody tr th:only-of-type {\n        vertical-align: middle;\n    }\n\n    .dataframe tbody tr th {\n        vertical-align: top;\n    }\n\n    .dataframe thead th {\n        text-align: right;\n    }\n</style>\n<table border=\"1\" class=\"dataframe\">\n  <thead>\n    <tr style=\"text-align: right;\">\n      <th></th>\n      <th>count</th>\n      <th>mean</th>\n    </tr>\n  </thead>\n  <tbody>\n    <tr>\n      <th>count</th>\n      <td>20.000000</td>\n      <td>20.000000</td>\n    </tr>\n    <tr>\n      <th>mean</th>\n      <td>1422.900000</td>\n      <td>9.985254</td>\n    </tr>\n    <tr>\n      <th>std</th>\n      <td>1861.368763</td>\n      <td>9.764511</td>\n    </tr>\n    <tr>\n      <th>min</th>\n      <td>520.000000</td>\n      <td>3.445438</td>\n    </tr>\n    <tr>\n      <th>25%</th>\n      <td>563.500000</td>\n      <td>4.237350</td>\n    </tr>\n    <tr>\n      <th>50%</th>\n      <td>630.500000</td>\n      <td>6.185383</td>\n    </tr>\n    <tr>\n      <th>75%</th>\n      <td>881.000000</td>\n      <td>10.095862</td>\n    </tr>\n    <tr>\n      <th>max</th>\n      <td>7461.000000</td>\n      <td>37.436800</td>\n    </tr>\n  </tbody>\n</table>\n</div>"
     },
     "metadata": {},
     "output_type": "display_data"
    },
    {
     "data": {
      "text/plain": "<IPython.core.display.HTML object>",
      "text/html": "<h4>Micro average</h4>"
     },
     "metadata": {},
     "output_type": "display_data"
    },
    {
     "data": {
      "text/plain": "count    28458.000000\nmean        18.688488\nstd         16.942340\nmin          0.000000\n25%          4.000000\n50%         15.000000\n75%         33.000000\nmax         83.000000\nName: Length, dtype: float64"
     },
     "metadata": {},
     "output_type": "display_data"
    }
   ],
   "source": [
    "df = proofs_to_df(test_reasoners, 0)\n",
    "summary(df)\n"
   ],
   "metadata": {
    "collapsed": false
   }
  },
  {
   "cell_type": "code",
   "execution_count": 58,
   "outputs": [
    {
     "data": {
      "text/plain": "<seaborn.axisgrid.FacetGrid at 0x7f1f951c5130>"
     },
     "execution_count": 58,
     "metadata": {},
     "output_type": "execute_result"
    },
    {
     "data": {
      "text/plain": "<Figure size 500x500 with 1 Axes>",
      "image/png": "[encoded data removed]"
     },
     "metadata": {},
     "output_type": "display_data"
    }
   ],
   "source": [
    "import seaborn as sns\n",
    "\n",
    "tmp = df.groupby([\"Reasoner\", \"Length\"]).count().reset_index().rename(columns={'Subclass': 'Count'}).drop(columns=[\"Superclass\"])\n",
    "\n",
    "g = sns.relplot(data=tmp, x=\"Length\", y=\"Count\", kind=\"line\")\n",
    "g.set(yscale=\"log\")"
   ],
   "metadata": {
    "collapsed": false
   }
  },
  {
   "cell_type": "markdown",
   "source": [
    "### Test set, non-asserted\n"
   ],
   "metadata": {
    "collapsed": false
   }
  },
  {
   "cell_type": "code",
   "execution_count": 59,
   "outputs": [
    {
     "data": {
      "text/plain": "<IPython.core.display.HTML object>",
      "text/html": "<h4>Macro average</h4>"
     },
     "metadata": {},
     "output_type": "display_data"
    },
    {
     "data": {
      "text/plain": "             count       mean\ncount    20.000000  20.000000\nmean   1167.400000  13.498338\nstd    1859.921628   9.802630\nmin     261.000000   6.071197\n25%     308.750000   7.982990\n50%     376.000000  10.533451\n75%     623.000000  14.554711\nmax    7196.000000  43.243527",
      "text/html": "<div>\n<style scoped>\n    .dataframe tbody tr th:only-of-type {\n        vertical-align: middle;\n    }\n\n    .dataframe tbody tr th {\n        vertical-align: top;\n    }\n\n    .dataframe thead th {\n        text-align: right;\n    }\n</style>\n<table border=\"1\" class=\"dataframe\">\n  <thead>\n    <tr style=\"text-align: right;\">\n      <th></th>\n      <th>count</th>\n      <th>mean</th>\n    </tr>\n  </thead>\n  <tbody>\n    <tr>\n      <th>count</th>\n      <td>20.000000</td>\n      <td>20.000000</td>\n    </tr>\n    <tr>\n      <th>mean</th>\n      <td>1167.400000</td>\n      <td>13.498338</td>\n    </tr>\n    <tr>\n      <th>std</th>\n      <td>1859.921628</td>\n      <td>9.802630</td>\n    </tr>\n    <tr>\n      <th>min</th>\n      <td>261.000000</td>\n      <td>6.071197</td>\n    </tr>\n    <tr>\n      <th>25%</th>\n      <td>308.750000</td>\n      <td>7.982990</td>\n    </tr>\n    <tr>\n      <th>50%</th>\n      <td>376.000000</td>\n      <td>10.533451</td>\n    </tr>\n    <tr>\n      <th>75%</th>\n      <td>623.000000</td>\n      <td>14.554711</td>\n    </tr>\n    <tr>\n      <th>max</th>\n      <td>7196.000000</td>\n      <td>43.243527</td>\n    </tr>\n  </tbody>\n</table>\n</div>"
     },
     "metadata": {},
     "output_type": "display_data"
    },
    {
     "data": {
      "text/plain": "<IPython.core.display.HTML object>",
      "text/html": "<h4>Micro average</h4>"
     },
     "metadata": {},
     "output_type": "display_data"
    },
    {
     "data": {
      "text/plain": "count    23348.000000\nmean        22.731155\nstd         16.087605\nmin          2.000000\n25%         10.000000\n50%         17.000000\n75%         35.000000\nmax         83.000000\nName: Length, dtype: float64"
     },
     "metadata": {},
     "output_type": "display_data"
    }
   ],
   "source": [
    "summary(proofs_to_df(test_reasoners, 2))\n"
   ],
   "metadata": {
    "collapsed": false
   }
  },
  {
   "cell_type": "code",
   "execution_count": null,
   "outputs": [],
   "source": [],
   "metadata": {
    "collapsed": false
   }
  }
 ],
 "metadata": {
  "kernelspec": {
   "name": "reasonable-embeddings",
   "language": "python",
   "display_name": "reasonable-embeddings"
  },
  "language_info": {
   "codemirror_mode": {
    "name": "ipython",
    "version": 2
   },
   "file_extension": ".py",
   "mimetype": "text/x-python",
   "name": "python",
   "nbconvert_exporter": "python",
   "pygments_lexer": "ipython2",
   "version": "2.7.6"
  }
 },
 "nbformat": 4,
 "nbformat_minor": 0
}
