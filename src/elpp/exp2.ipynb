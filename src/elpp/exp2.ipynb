{
 "cells": [
  {
   "cell_type": "code",
   "execution_count": null,
   "metadata": {
    "collapsed": false
   },
   "outputs": [],
   "source": [
    "cd ../.."
   ]
  },
  {
   "cell_type": "code",
   "execution_count": null,
   "metadata": {
    "collapsed": false
   },
   "outputs": [],
   "source": [
    "from pathlib import Path\n",
    "base_dir = Path('local/out/elpp/')\n",
    "\n",
    "base_dir.mkdir(parents=True, exist_ok=True)"
   ]
  },
  {
   "cell_type": "code",
   "execution_count": null,
   "metadata": {
    "collapsed": false
   },
   "outputs": [],
   "source": [
    "import lzma\n",
    "import dill\n",
    "\n",
    "with lzma.open(base_dir / 'reasoners.dill.xz', 'rb') as f:\n",
    "    reasoners = dill.load(f)"
   ]
  },
  {
   "cell_type": "code",
   "execution_count": null,
   "metadata": {
    "collapsed": false
   },
   "outputs": [],
   "source": [
    "from src.reasoner import ReasonerHead\n",
    "from src.reasoner import EmbeddingLayer\n",
    "\n",
    "with lzma.open(base_dir / 'exp1.dill.xz', 'rb') as f:\n",
    "    artifacts: dict = dill.load(f)\n",
    "\n",
    "emb_size = 32\n",
    "hidden_size = 16\n",
    "\n",
    "for key, components in artifacts.items():\n",
    "    neural_reasoner = ReasonerHead(emb_size=emb_size, hidden_size=hidden_size)\n",
    "    neural_reasoner.load_state_dict(components['reasoner'])\n",
    "    components['reasoner'] = neural_reasoner\n",
    "    encoders = [EmbeddingLayer(emb_size=emb_size, n_concepts=reasoner.n_concepts, n_roles=reasoner.n_roles) for reasoner in\n",
    "                reasoners]\n",
    "    for sd, e in zip(components['encoders'], encoders):\n",
    "        e.load_state_dict(sd)\n",
    "    components['encoders'] = encoders"
   ]
  },
  {
   "cell_type": "code",
   "execution_count": null,
   "metadata": {
    "collapsed": false
   },
   "outputs": [],
   "source": [
    "with lzma.open(base_dir / 'test_reasoners.dill.xz', 'rb') as f:\n",
    "    test_reasoners = dill.load(f)"
   ]
  },
  {
   "cell_type": "code",
   "execution_count": null,
   "metadata": {
    "collapsed": false
   },
   "outputs": [],
   "source": [
    "best_neural_reasoner = artifacts[max(artifacts.keys())]['reasoner']"
   ]
  },
  {
   "cell_type": "code",
   "execution_count": null,
   "metadata": {
    "collapsed": false
   },
   "outputs": [],
   "source": [
    "import numpy as np\n",
    "from src.reasoner import ReasonerHead, EmbeddingLayer, train\n",
    "from src.utils import timestr, paramcount\n",
    "import torch as T\n",
    "from src.elpp.gen import split_dataset\n",
    "\n",
    "seed = 2022\n",
    "ts = timestr()\n",
    "\n",
    "emb_size = 32\n",
    "hidden_size = 16\n",
    "epoch_count = 15\n",
    "test_epoch_count = 10\n",
    "batch_size = 128\n",
    "\n",
    "test_artifacts = {}\n",
    "\n",
    "for complexity_threshold in range(2, 21):\n",
    "\n",
    "    print(\"Complexity threshold\", complexity_threshold)\n",
    "\n",
    "    training, validation, test = split_dataset(test_reasoners, np.random.default_rng(seed=0xbeef), complexity_threshold=complexity_threshold)\n",
    "\n",
    "    T.manual_seed(seed)\n",
    "    reasoner = best_neural_reasoner\n",
    "    encoders = [EmbeddingLayer(emb_size=emb_size, n_concepts=reasoner.n_concepts, n_roles=reasoner.n_roles) for reasoner in\n",
    "                test_reasoners]\n",
    "\n",
    "    print(f'created {len(encoders)} encoders with {paramcount(encoders[0])} parameters each')\n",
    "\n",
    "    train_logger = train(training, validation, reasoner, encoders, epoch_count=epoch_count, batch_size=batch_size, freeze_reasoner=True)\n",
    "\n",
    "    test_artifacts[complexity_threshold] = {\n",
    "        'encoders': encoders,\n",
    "        'training': training,\n",
    "        'validation': validation,\n",
    "        'test': test\n",
    "    }\n"
   ]
  },
  {
   "cell_type": "code",
   "execution_count": null,
   "metadata": {
    "collapsed": false
   },
   "outputs": [],
   "source": [
    "tmp = {key: {'encoders': [e.state_dict() for e in value['encoders']], 'training': value['training'], 'validation': value['validation'], 'test': value['test']} for key, value in test_artifacts.items()}\n",
    "\n",
    "with lzma.open(base_dir / 'exp2.dill.xz', 'wb') as f:\n",
    "    dill.dump(tmp, f)"
   ]
  },
  {
   "cell_type": "code",
   "execution_count": null,
   "metadata": {
    "collapsed": false
   },
   "outputs": [],
   "source": [
    "from tqdm import tqdm\n",
    "from src.reasoner import eval_batch\n",
    "\n",
    "import pandas as pd\n",
    "\n",
    "rows = []\n",
    "\n",
    "for complexity_threshold, components in tqdm(artifacts.items()):\n",
    "    with T.no_grad():\n",
    "        idx_te, X_te, y_te = components['test']\n",
    "        _, _, Y_te_good = eval_batch(best_neural_reasoner, components['encoders'], X_te, y_te, idx_te)\n",
    "    for i in range(len(idx_te)):\n",
    "        idx = idx_te[i]\n",
    "        axiom = X_te[i]\n",
    "        expected = y_te[i]\n",
    "        predicted = Y_te_good[i]\n",
    "        complexity = len(reasoners[idx].decode_shortest_proof(axiom[1], axiom[2]))\n",
    "        rows.append([complexity_threshold, idx, complexity, axiom, expected, int(predicted >= .5), predicted])"
   ]
  },
  {
   "cell_type": "code",
   "execution_count": null,
   "metadata": {
    "collapsed": false
   },
   "outputs": [],
   "source": [
    "df = pd.DataFrame(rows, columns=[\"Complexity threshold\", \"KB\", \"Complexity\", \"Axiom\", \"Expected\", \"Predicted\", \"Raw predicted\"])\n",
    "df.to_feather(base_dir / 'exp2.feather')\n",
    "df\n"
   ]
  }
 ],
 "metadata": {
  "kernelspec": {
   "display_name": "reasonable-embeddings",
   "language": "python",
   "name": "python3"
  },
  "language_info": {
   "codemirror_mode": {
    "name": "ipython",
    "version": 3
   },
   "file_extension": ".py",
   "mimetype": "text/x-python",
   "name": "python",
   "nbconvert_exporter": "python",
   "pygments_lexer": "ipython3",
   "version": "3.11.8"
  }
 },
 "nbformat": 4,
 "nbformat_minor": 0
}
