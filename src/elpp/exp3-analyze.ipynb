{
 "cells": [
  {
   "cell_type": "code",
   "execution_count": null,
   "metadata": {
    "collapsed": false
   },
   "outputs": [],
   "source": [
    "from pathlib import Path\n",
    "\n",
    "base_dir = Path('../../local/out/elpp/')"
   ]
  },
  {
   "cell_type": "code",
   "execution_count": null,
   "metadata": {
    "collapsed": false
   },
   "outputs": [],
   "source": [
    "import pandas as pd\n",
    "\n",
    "# name = \"exp3_emb_size_10_hidden_size_16_reasoners_300_concepts_5_roles_200_proofs.feather\"\n",
    "name = \"exp3_emb_size_32_hidden_size_32_reasoners.feather\"\n",
    "# name = \"exp3_emb_size_32_hidden_size_16_reasoners_300_concepts_5_roles_200_proofs.feather\"\n",
    "# name = \"exp3.feather\" # default values\n",
    "# name = \"exp3_emb_size_300_hidden_size_300_reasoners.feather\"\n",
    "name = \"exp3_emb_size_300_hidden_size_300_reasoners_300_concepts_5_roles_200_proofs.feather\"\n",
    "\n",
    "df = pd.read_feather(base_dir / name)\n",
    "tmp = df.apply(lambda x:x['Axiom'], result_type='expand', axis=1)\n",
    "df = pd.merge(df, tmp, left_index=True, right_index=True).rename(columns={0: 'Operator', 1: 'Subclass', 2: 'Superclass'})\n",
    "df"
   ]
  },
  {
   "cell_type": "markdown",
   "metadata": {
    "collapsed": false
   },
   "source": [
    "## Reasoner training complexity (j) and embeddings training complexity (k) vs recall on the test set >k"
   ]
  },
  {
   "cell_type": "code",
   "execution_count": null,
   "metadata": {
    "collapsed": false
   },
   "outputs": [],
   "source": [
    "df[['Complexity threshold j', 'Complexity threshold k', 'Predicted']].groupby(['Complexity threshold j', 'Complexity threshold k']).mean().reset_index().pivot(index='Complexity threshold j', columns='Complexity threshold k', values='Predicted')"
   ]
  },
  {
   "cell_type": "markdown",
   "metadata": {
    "collapsed": false
   },
   "source": [
    "## Reasoner training complexity (j) and embeddings training complexity (k) vs recall on the test set >20\n"
   ]
  },
  {
   "cell_type": "code",
   "execution_count": null,
   "metadata": {
    "collapsed": false
   },
   "outputs": [],
   "source": [
    "summary = df.pivot(index=['KB', 'Operator', 'Subclass', 'Superclass'], columns=['Complexity threshold k', 'Complexity threshold j'], values='Predicted').dropna().mean(axis=0).reset_index().pivot(index='Complexity threshold j', columns='Complexity threshold k', values=0)\n",
    "summary"
   ]
  },
  {
   "cell_type": "code",
   "execution_count": null,
   "metadata": {
    "collapsed": false
   },
   "outputs": [],
   "source": [
    "import seaborn as sns\n",
    "import matplotlib.pyplot as plt\n",
    "\n",
    "fig, ax = plt.subplots(figsize=(12, 5))\n",
    "ax = sns.heatmap(summary, annot=True, fmt=\".2f\", cmap='gist_gray')\n",
    "ax.set_xlabel('$k$')\n",
    "ax.set_ylabel('$j$')\n",
    "plt.savefig(base_dir / 'exp3.pdf', dpi=300)"
   ]
  },
  {
   "cell_type": "markdown",
   "metadata": {
    "collapsed": false
   },
   "source": [
    "# KB = dataset, (j, k) = classifier\n",
    "\n",
    "This results in $19^2\\cdot (19^2-1)/2=64,980$ comparisons. Assuming family-wise error rate $0.05$ and the Bonferroni correction, the significance level would be $0.05/64980=7.69\\cdot 10^{-7}$ and that clearly makes no sense whatsoever.\n"
   ]
  },
  {
   "cell_type": "code",
   "execution_count": null,
   "metadata": {
    "collapsed": false
   },
   "outputs": [],
   "source": [
    "summary = df.pivot(index=['KB', 'Operator', 'Subclass', 'Superclass'], columns=['Complexity threshold j', 'Complexity threshold k'], values='Predicted').dropna().reset_index().drop(columns=['Operator', 'Subclass', 'Superclass']).groupby('KB').mean()\n",
    "summary.columns = summary.columns.to_flat_index()\n",
    "summary"
   ]
  },
  {
   "cell_type": "code",
   "execution_count": null,
   "metadata": {
    "collapsed": false
   },
   "outputs": [],
   "source": [
    "from scipy.stats import friedmanchisquare\n",
    "\n",
    "friedmanchisquare(*summary.to_numpy())\n"
   ]
  },
  {
   "cell_type": "code",
   "execution_count": null,
   "metadata": {
    "collapsed": false
   },
   "outputs": [],
   "source": [
    "import scikit_posthocs as sp\n",
    "\n",
    "sp.posthoc_nemenyi_friedman(summary, melted=False) #.to_numpy())"
   ]
  }
 ],
 "metadata": {
  "kernelspec": {
   "display_name": "reasonable-embeddings",
   "language": "python",
   "name": "python3"
  },
  "language_info": {
   "codemirror_mode": {
    "name": "ipython",
    "version": 3
   },
   "file_extension": ".py",
   "mimetype": "text/x-python",
   "name": "python",
   "nbconvert_exporter": "python",
   "pygments_lexer": "ipython3",
   "version": "3.11.8"
  }
 },
 "nbformat": 4,
 "nbformat_minor": 0
}
